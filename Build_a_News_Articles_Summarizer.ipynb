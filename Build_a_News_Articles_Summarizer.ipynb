{
  "cells": [
    {
      "cell_type": "code",
      "execution_count": 1,
      "metadata": {
        "colab": {
          "base_uri": "https://localhost:8080/"
        },
        "id": "YQVIcL2LWULJ",
        "outputId": "9a9de454-9a07-4bbe-b8bf-21ca65b867c8"
      },
      "outputs": [],
      "source": [
        "#pip install newspaper3k"
      ]
    },
    {
      "cell_type": "code",
      "execution_count": null,
      "metadata": {
        "colab": {
          "base_uri": "https://localhost:8080/"
        },
        "id": "bDuYoCMhWW_x",
        "outputId": "e6efb027-eaf0-4306-e9fe-62c58b35072f"
      },
      "outputs": [],
      "source": [
        "import openai\n",
        "import os\n",
        "\n",
        "os.environ[\"OPENAI_API_KEY\"] = \"sk-\"\n",
        "#openai.api_key = \"sk-\""
      ]
    },
    {
      "cell_type": "code",
      "execution_count": 3,
      "metadata": {
        "colab": {
          "base_uri": "https://localhost:8080/"
        },
        "id": "_6rH09GpWyP_",
        "outputId": "66ef0223-ff14-4ba8-a460-98574a220b4e"
      },
      "outputs": [
        {
          "name": "stdout",
          "output_type": "stream",
          "text": [
            "Title: OpenAI Function Calling: From Basics to Advanced Techniques in Python\n",
            "Text: Photo by Andrew Neel\n",
            "\n",
            "OpenAi has just launched a cool new feature called “functions calling”. in this story, we going to discuss how this feature can improve your existing products by providing a feature that lets users interact with them through natural language. Plus, we’ll show an easy-to-follow example of a basic app built in Python that uses this new feature.\n",
            "\n",
            "What is “OpenAi Function Calling”?\n",
            "\n",
            "OpenAi function calling: this is a new feature that lets the Openai models, like GPT-3.r turbo and GPT-4, suggest you call functions written in your code in response to natural language inputs from users.\n",
            "\n",
            "It works by telling the model which functions are available on your system and explaining their purpose and parameters. OpenAi can then understand when a user’s input matches these descriptions and make the appropriate function call.\n",
            "\n",
            "this adds a new level of interaction and user-friendliness, allowing non-technical users to interact with technical functionalities using simple prompts.\n",
            "\n",
            "GPT-4 and GPT-3.5-turbo updates\n",
            "\n",
            "Below is the mapping between the stable, old model and new model.\n",
            "\n",
            "It seems that the API documentation has also been updated, so please check that as well.\n",
            "\n",
            "Models with a suffix of 0613 have been published for each model.\n",
            "\n",
            "It seems that it is also possible to compare and evaluate these versions with Evals, a framework for evaluating models.\n"
          ]
        }
      ],
      "source": [
        "import requests\n",
        "from newspaper import Article\n",
        "\n",
        "headers = {\n",
        "    'User-Agent': 'Mozilla/5.0 (Windows NT 10.0; Win64; x64) AppleWebKit/537.36 (KHTML, like Gecko) Chrome/89.0.4389.82 Safari/537.36'\n",
        "}\n",
        "\n",
        "article_urls = \"https://levelup.gitconnected.com/openai-function-calling-from-basics-to-advanced-techniques-in-python-d32d6d3d4d98\"\n",
        "\n",
        "session = requests.Session()\n",
        "\n",
        "try:\n",
        "    response = session.get(article_urls, headers=headers, timeout=10)\n",
        "\n",
        "    if response.status_code == 200:\n",
        "        article = Article(article_urls)\n",
        "        article.download()\n",
        "        article.parse()\n",
        "\n",
        "        print(f\"Title: {article.title}\")\n",
        "        print(f\"Text: {article.text}\")\n",
        "\n",
        "    else:\n",
        "        print(f\"Failed to fetch article at {article_urls}\")\n",
        "except Exception as e:\n",
        "    print(f\"Error occurred while fetching article at {article_urls}: {e}\")"
      ]
    },
    {
      "cell_type": "code",
      "execution_count": 4,
      "metadata": {
        "id": "UYRzjToAXDUe"
      },
      "outputs": [
        {
          "name": "stderr",
          "output_type": "stream",
          "text": [
            "C:\\Users\\Mourya\\AppData\\Roaming\\Python\\Python311\\site-packages\\deeplake\\util\\check_latest_version.py:32: UserWarning: A newer version of deeplake (3.6.10) is available. It's recommended that you update to the latest version using `pip install -U deeplake`.\n",
            "  warnings.warn(\n"
          ]
        }
      ],
      "source": [
        "from langchain.schema import (\n",
        "    HumanMessage\n",
        ")\n",
        "\n",
        "# we get the article data from the scraping part\n",
        "article_title = article.title\n",
        "article_text = article.text\n",
        "\n",
        "from langchain.chat_models import ChatOpenAI\n",
        "\n",
        "# load the model\n",
        "chat = ChatOpenAI(model_name=\"gpt-3.5-turbo\", temperature=0)"
      ]
    },
    {
      "cell_type": "code",
      "execution_count": 5,
      "metadata": {
        "colab": {
          "base_uri": "https://localhost:8080/"
        },
        "id": "l3LoDUVTXNJz",
        "outputId": "30c511d5-b63e-49f3-b527-11e278675338"
      },
      "outputs": [
        {
          "name": "stdout",
          "output_type": "stream",
          "text": [
            "- OpenAI has introduced a new feature called \"function calling\" that allows users to interact with their products through natural language inputs.\n",
            "- This feature enables OpenAI models like GPT-3.5-turbo and GPT-4 to suggest function calls based on the user's input.\n",
            "- Users can provide descriptions and parameters of available functions to the model, which helps it understand and make appropriate function calls.\n",
            "- The function calling feature enhances user-friendliness and allows non-technical users to access technical functionalities.\n",
            "- OpenAI has also released updates for GPT-3.5-turbo and GPT-4 models, with the API documentation being updated as well.\n",
            "- Users can compare and evaluate different versions of the models using the Evals framework.\n"
          ]
        }
      ],
      "source": [
        "# prepare template for prompt\n",
        "template = \"\"\"You are an advanced AI assistant that summarizes online articles into bulleted lists.\n",
        "\n",
        "Here's the article you need to summarize.\n",
        "\n",
        "==================\n",
        "Title: {article_title}\n",
        "\n",
        "{article_text}\n",
        "==================\n",
        "\n",
        "Now, provide a summarized version of the article in a bulleted list format.\n",
        "\"\"\"\n",
        "\n",
        "# format prompt\n",
        "prompt = template.format(article_title=article.title, article_text=article.text)\n",
        "\n",
        "messages = [HumanMessage(content=prompt)]\n",
        "\n",
        "# generate summary\n",
        "summary = chat([HumanMessage(content=prompt)])\n",
        "print(summary.content)"
      ]
    },
    {
      "cell_type": "code",
      "execution_count": null,
      "metadata": {
        "id": "Mrx20THKYkA4"
      },
      "outputs": [],
      "source": []
    }
  ],
  "metadata": {
    "colab": {
      "provenance": []
    },
    "kernelspec": {
      "display_name": "Python 3",
      "name": "python3"
    },
    "language_info": {
      "codemirror_mode": {
        "name": "ipython",
        "version": 3
      },
      "file_extension": ".py",
      "mimetype": "text/x-python",
      "name": "python",
      "nbconvert_exporter": "python",
      "pygments_lexer": "ipython3",
      "version": "3.11.4"
    }
  },
  "nbformat": 4,
  "nbformat_minor": 0
}
